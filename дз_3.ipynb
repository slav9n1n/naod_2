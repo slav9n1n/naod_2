{
  "nbformat": 4,
  "nbformat_minor": 0,
  "metadata": {
    "colab": {
      "provenance": []
    },
    "kernelspec": {
      "name": "python3",
      "display_name": "Python 3"
    },
    "language_info": {
      "name": "python"
    }
  },
  "cells": [
    {
      "cell_type": "code",
      "execution_count": 18,
      "metadata": {
        "id": "cJmH0fTFVivW"
      },
      "outputs": [],
      "source": [
        "class CHAMBER:\n",
        "  def __init__(self, amount_of_methane, batch, catalyst_1, catalyst_2, oxygen_percentage):\n",
        "    self.amount_of_methane = amount_of_methane\n",
        "    self.batch = batch\n",
        "    self.catalyst_1 = catalyst_1 # здесь добавляем условие с 3 исходами - катализаторами (if batch == ...)\n",
        "    self.oxygen_percentage = oxygen_percentage\n",
        "    self.catalyst_2 = catalyst_2 # аналогично добавляем условие\n",
        "    return amount_of_methane, catalyst_1, batch, catalyst_2, oxygen_percentage\n",
        "  def process_batch(self):\n",
        "    pass\n",
        "\n",
        "class Water_vapor:\n",
        "  def __init__(self,temperature, pressure, impurity_percentage):\n",
        "    self.temperature = temperature\n",
        "    self.pressure = pressure\n",
        "    self.impurity_percentage = impurity_percentage\n",
        "    return temperature, pressure, impurity_percentage\n",
        "\n",
        "class chamber_1 (Water_vapor, CHAMBER):\n",
        "  def __init__(self):\n",
        "    pass\n",
        "  def process_batch(self, batch):\n",
        "    # для каждой функции здесь должен быть код выполнения того или иного процесса обработки хим веществ\n",
        "    return ammonia\n",
        "\n",
        "class chamber_2 (chamber_1, CHAMBER):\n",
        "  def __init__(self):\n",
        "    pass\n",
        "  def process_batch(self, ammonia):\n",
        "    # код обработки\n",
        "    return nitrigen_dioxide\n",
        "\n",
        "class Filter:\n",
        "  def __init__(self, brand, model, dirtiness):\n",
        "    self.brand = brand\n",
        "    self.model = model\n",
        "    self.dirtiness = 0\n",
        "  def check(self, amount):\n",
        "    dirtiness+=amount\n",
        "    if self.dirtiness <= 80: # условие, когда фильтр ломается\n",
        "      return True\n",
        "\n",
        "class chamber_3 (Filter, chamber_2, CHAMBER):\n",
        "  def __init__ (self):\n",
        "    if check(amount) == True:\n",
        "      pass\n",
        "  def process_batch(self, nitrigen_dioxide):\n",
        "    return nitric_acid\n",
        "\n",
        "class chamber_4 (chamber_3, CHAMBER):\n",
        "  def __init__(self):\n",
        "    pass\n",
        "  def process_batch(self, nitric_acid):\n",
        "    # код обработки\n",
        "    return result"
      ]
    }
  ]
}